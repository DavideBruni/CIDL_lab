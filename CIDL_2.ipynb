{
  "nbformat": 4,
  "nbformat_minor": 0,
  "metadata": {
    "colab": {
      "provenance": [],
      "gpuType": "T4",
      "authorship_tag": "ABX9TyPFpzjd6SAQG2sjczq4aaeb",
      "include_colab_link": true
    },
    "kernelspec": {
      "name": "python3",
      "display_name": "Python 3"
    },
    "language_info": {
      "name": "python"
    },
    "accelerator": "GPU"
  },
  "cells": [
    {
      "cell_type": "markdown",
      "metadata": {
        "id": "view-in-github",
        "colab_type": "text"
      },
      "source": [
        "<a href=\"https://colab.research.google.com/github/DavideBruni/CIDL_lab/blob/main/CIDL_2.ipynb\" target=\"_parent\"><img src=\"https://colab.research.google.com/assets/colab-badge.svg\" alt=\"Open In Colab\"/></a>"
      ]
    },
    {
      "cell_type": "code",
      "execution_count": null,
      "metadata": {
        "id": "mT4anApxsf_X"
      },
      "outputs": [],
      "source": [
        "import torch\n",
        "import torchvision\n",
        "\n",
        "\n",
        "train_mnist = torchvision.datasets.MNIST(\n",
        "    \"./data\",\n",
        "    train=True,\n",
        "    download=True,\n",
        "    transform=torchvision.transforms.Compose([\n",
        "        torchvision.transforms.ToTensor(),\n",
        "        torchvision.transforms.Normalize((0.1307,), (0.3081,))\n",
        "    ])\n",
        ")\n",
        "\n",
        "test_mnist = torchvision.datasets.MNIST(\n",
        "    \"./data\",\n",
        "    train=False,\n",
        "    download=True,\n",
        "    transform=torchvision.transforms.Compose([\n",
        "        torchvision.transforms.ToTensor(),\n",
        "        torchvision.transforms.Normalize((0.1307,), (0.3081,))\n",
        "    ])\n",
        ")"
      ]
    },
    {
      "cell_type": "markdown",
      "source": [
        "# **Exercise 0**"
      ],
      "metadata": {
        "id": "j7Yop0Cqjm3s"
      }
    },
    {
      "cell_type": "code",
      "source": [
        "model = torch.nn.Sequential(\n",
        "    torch.nn.Linear(28 * 28, 300),\n",
        "    torch.nn.LeakyReLU(),\n",
        "    torch.nn.Linear(300, 300),\n",
        "    torch.nn.LeakyReLU(),\n",
        "    torch.nn.Linear(300, 10),\n",
        "    torch.nn.Softmax(dim=1)\n",
        ")\n",
        "\n",
        "model.to(\"cuda\")"
      ],
      "metadata": {
        "colab": {
          "base_uri": "https://localhost:8080/"
        },
        "id": "TZLDQXMzkF5i",
        "outputId": "6ed44f90-d144-4cd8-c985-0e773f173ab7"
      },
      "execution_count": null,
      "outputs": [
        {
          "output_type": "execute_result",
          "data": {
            "text/plain": [
              "Sequential(\n",
              "  (0): Linear(in_features=784, out_features=300, bias=True)\n",
              "  (1): LeakyReLU(negative_slope=0.01)\n",
              "  (2): Linear(in_features=300, out_features=300, bias=True)\n",
              "  (3): LeakyReLU(negative_slope=0.01)\n",
              "  (4): Linear(in_features=300, out_features=10, bias=True)\n",
              "  (5): Softmax(dim=1)\n",
              ")"
            ]
          },
          "metadata": {},
          "execution_count": 33
        }
      ]
    },
    {
      "cell_type": "code",
      "source": [
        "from tqdm import trange\n",
        "from tqdm import trange, tqdm\n",
        "\n",
        "dl = torch.utils.data.DataLoader(train_mnist, batch_size=32, shuffle=True)\n",
        "optimizer = torch.optim.Adam(model.parameters(), lr=0.001)\n",
        "loss_fn = torch.nn.CrossEntropyLoss()\n",
        "\n",
        "for epoch in range(3):\n",
        "    bar = tqdm(dl)\n",
        "    for digit,cls in bar:\n",
        "\n",
        "        digit = digit.to(\"cuda\")\n",
        "        cls = cls.to('cuda')\n",
        "\n",
        "\n",
        "        digit = digit.view(digit.shape[0], 28 * 28)\n",
        "        cls_out = model(digit)\n",
        "\n",
        "        loss = loss_fn(cls_out, cls)\n",
        "        accuracy = (cls_out.argmax(dim=1) == cls).float().mean()\n",
        "        bar.set_description(f\"Loss: {loss.item():.4f}, Accuracy: {accuracy.item():.4f}\")\n",
        "\n",
        "        optimizer.zero_grad()\n",
        "        loss.backward()\n",
        "        optimizer.step()"
      ],
      "metadata": {
        "colab": {
          "base_uri": "https://localhost:8080/"
        },
        "id": "q1uBUcZ-l0GP",
        "outputId": "a632b1a9-00a6-45ea-bda9-d0b581831aaa"
      },
      "execution_count": null,
      "outputs": [
        {
          "output_type": "stream",
          "name": "stderr",
          "text": [
            "Loss: 1.5241, Accuracy: 0.9375: 100%|██████████| 1875/1875 [00:24<00:00, 75.38it/s]\n",
            "Loss: 1.4790, Accuracy: 0.9688: 100%|██████████| 1875/1875 [00:24<00:00, 76.97it/s]\n",
            "Loss: 1.4614, Accuracy: 1.0000: 100%|██████████| 1875/1875 [00:24<00:00, 77.87it/s]\n"
          ]
        }
      ]
    },
    {
      "cell_type": "code",
      "source": [
        "from sklearn.metrics import precision_score, recall_score, f1_score\n",
        "\n",
        "class DigitDataset(torch.utils.data.Dataset):\n",
        "\n",
        "  def __init__(self,dataset):\n",
        "    self.dataset = dataset\n",
        "\n",
        "  def __len__(self):\n",
        "    return len(self.dataset)\n",
        "\n",
        "  def __getitem__(self,i):\n",
        "    return self.dataset[i]\n",
        "\n",
        "ds = DigitDataset(test_mnist)\n",
        "dl_test = torch.utils.data.DataLoader(ds, batch_size=32)\n",
        "\n",
        "\n",
        "correct = 0\n",
        "total = 0\n",
        "\n",
        "with torch.no_grad():  # Disable gradient calculation for testing\n",
        "    for digit, labels in dl_test:\n",
        "        digit = digit.to(\"cuda\")\n",
        "        labels = labels.to(\"cuda\")\n",
        "        digit = digit.view(digit.shape[0], 28 * 28)  # Flatten the images if your model expects flat input\n",
        "        outputs = model(digit)  # Forward pass\n",
        "        _, predicted = torch.max(outputs, 1)\n",
        "        total += labels.size(0)\n",
        "        correct += (predicted == labels).sum().item()\n",
        "\n",
        "\n",
        "accuracy = 100 * correct / total\n",
        "print(f'Accuracy on the test dataset: {accuracy:.2f}%')"
      ],
      "metadata": {
        "colab": {
          "base_uri": "https://localhost:8080/"
        },
        "id": "VT-L7_aQpp_G",
        "outputId": "7487def3-258b-4c3b-fa74-2e7525897b2d"
      },
      "execution_count": null,
      "outputs": [
        {
          "output_type": "stream",
          "name": "stdout",
          "text": [
            "Accuracy on the test dataset: 91.14%\n"
          ]
        }
      ]
    },
    {
      "cell_type": "code",
      "source": [
        "import random\n",
        "\n",
        "class NumberPairs(torch.utils.data.IterableDataset):\n",
        "\n",
        "  def __init__(self,dataset):\n",
        "    super().__init__()\n",
        "    self.dataset = dataset\n",
        "\n",
        "  def __iter__(self):\n",
        "    return self\n",
        "\n",
        "  def __next__(self):\n",
        "    a_digit, a_class = random.choice(self.dataset)\n",
        "    b_digit, b_class = random.choice(self.dataset)\n",
        "\n",
        "    return a_digit, b_digit, a_class, b_class\n",
        "\n",
        "  def __len__(self):\n",
        "    return len(self.dataset)\n",
        "\n",
        "  def __getitem__(self,i):\n",
        "    return self.dataset[i]"
      ],
      "metadata": {
        "id": "w-SRKVwMxAoK"
      },
      "execution_count": null,
      "outputs": []
    },
    {
      "cell_type": "code",
      "source": [
        "from torch.nn.modules.activation import LeakyReLU\n",
        "\n",
        "\n",
        "model = torch.nn.Sequential(\n",
        "  torch.nn.Conv2d(1,48,(3,3), stride = 1, padding = 0),\n",
        "  torch.nn.LeakyReLU(),\n",
        "  torch.nn.Conv2d(48,48,(3,3), stride = 1, padding = 0),\n",
        "  torch.nn.LeakyReLU(),\n",
        "  torch.nn.Conv2d(48,10,(3,3), stride = 1, padding = 0),\n",
        "  torch.nn.Flatten()\n",
        ")\n",
        "\n",
        "batches = 1000\n",
        "ds = NumberPairs(train_mnist)\n",
        "dl = torch.utils.data.DataLoader(ds, batch_size=32)\n",
        "\n",
        "model.to(\"cuda\")\n",
        "\n",
        "optimizer = torch.optim.Adam(model.parameters(), lr=0.001)\n",
        "dist_fn = torch.nn.PairwiseDistance(p=2)\n",
        "loss_fn = torch.nn.MSELoss()\n",
        "\n",
        "for epoch in range(3):\n",
        "    bar = tqdm(enumerate(dl), total=batches)\n",
        "    for i, (a_digits, b_digits, a_classes, b_classes) in bar:\n",
        "\n",
        "        a_digits = a_digits.to(\"cuda\")\n",
        "        b_digits = b_digits.to(\"cuda\")\n",
        "        a_classes = a_classes.to(\"cuda\")\n",
        "        b_classes = b_classes.to(\"cuda\")\n",
        "\n",
        "        optimizer.zero_grad()\n",
        "        a_outs = model(a_digits)\n",
        "        b_outs = model(b_digits)\n",
        "\n",
        "        dist = dist_fn(a_outs, b_outs)\n",
        "        target_dists = (a_classes - b_classes).abs().float()\n",
        "\n",
        "        loss = loss_fn(dist, target_dists)\n",
        "\n",
        "        loss.backward()\n",
        "        optimizer.step()\n",
        "\n",
        "        bar.set_description(f\"Loss {loss.item():.4f}\")\n",
        "\n",
        "        if i >= batches:\n",
        "            break"
      ],
      "metadata": {
        "colab": {
          "base_uri": "https://localhost:8080/"
        },
        "id": "CwxyJbnQ3wfZ",
        "outputId": "1a1ad5e1-2733-478b-979d-7b601713051a"
      },
      "execution_count": null,
      "outputs": [
        {
          "output_type": "stream",
          "name": "stderr",
          "text": [
            "Loss 4.0392: 100%|██████████| 1000/1000 [00:18<00:00, 53.12it/s]\n",
            "Loss 3.4406: 100%|██████████| 1000/1000 [00:16<00:00, 60.56it/s]\n",
            "Loss 3.9655: 100%|██████████| 1000/1000 [00:16<00:00, 60.13it/s]\n"
          ]
        }
      ]
    },
    {
      "cell_type": "code",
      "source": [],
      "metadata": {
        "id": "TFcQXN8k2Jnl"
      },
      "execution_count": null,
      "outputs": []
    },
    {
      "cell_type": "code",
      "source": [],
      "metadata": {
        "id": "UnxlHZf63v79"
      },
      "execution_count": null,
      "outputs": []
    }
  ]
}