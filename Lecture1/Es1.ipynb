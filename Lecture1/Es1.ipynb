{
  "nbformat": 4,
  "nbformat_minor": 0,
  "metadata": {
    "colab": {
      "provenance": [],
      "authorship_tag": "ABX9TyO5oqmx/ZYruITOuztdFkIp",
      "include_colab_link": true
    },
    "kernelspec": {
      "name": "python3",
      "display_name": "Python 3"
    },
    "language_info": {
      "name": "python"
    }
  },
  "cells": [
    {
      "cell_type": "markdown",
      "metadata": {
        "id": "view-in-github",
        "colab_type": "text"
      },
      "source": [
        "<a href=\"https://colab.research.google.com/github/DavideBruni/CIDL_lab/blob/main/Lecture1/Es1.ipynb\" target=\"_parent\"><img src=\"https://colab.research.google.com/assets/colab-badge.svg\" alt=\"Open In Colab\"/></a>"
      ]
    },
    {
      "cell_type": "code",
      "execution_count": 13,
      "metadata": {
        "id": "QP_23iVxfQRH"
      },
      "outputs": [],
      "source": [
        "import torch"
      ]
    },
    {
      "cell_type": "markdown",
      "source": [
        "# **Es 1**\n",
        "Create a simple dataset and a model, than create a LineModule and try to approximate the given dataset using a simple NN."
      ],
      "metadata": {
        "id": "ko2e-Phrka4b"
      }
    },
    {
      "cell_type": "code",
      "source": [
        "''' Class PointsDataset, the constructur expect the filePath to the txt file\n",
        "   where each line is a Dataset Entry '''\n",
        "class PointsDataset(torch.utils.data.Dataset):\n",
        "  def __init__(self, path):\n",
        "    self.data = []\n",
        "    with open(path, 'r') as f:\n",
        "            for line in f:\n",
        "                x, y = line.split(\" \")\n",
        "                x, y = float(x), float(y)\n",
        "                self.data.append((x, y))\n",
        "\n",
        "  def __len__(self):\n",
        "      return len(self.data)\n",
        "\n",
        "  def __getitem__(self, idx):\n",
        "      return self.data[idx]"
      ],
      "metadata": {
        "id": "_bzQ7x6Cfa5-"
      },
      "execution_count": 14,
      "outputs": []
    },
    {
      "cell_type": "code",
      "source": [
        "# Test\n",
        "ds = PointsDataset('dataset1.txt')\n",
        "print(ds[0])\n",
        "print(len(ds))"
      ],
      "metadata": {
        "colab": {
          "base_uri": "https://localhost:8080/"
        },
        "id": "l1NeH6uOgfro",
        "outputId": "fb2570cb-a272-40ad-818e-c62fcb89af59"
      },
      "execution_count": 15,
      "outputs": [
        {
          "output_type": "stream",
          "name": "stdout",
          "text": [
            "(-2.067504630593728, -4.3940160659490966)\n",
            "100\n"
          ]
        }
      ]
    },
    {
      "cell_type": "code",
      "source": [
        "''' Class LineModule, it has one parameter w. Forward method must returns y = wx '''\n",
        "class LineModule(torch.nn.Module):\n",
        "  def __init__(self):\n",
        "    super().__init__()\n",
        "    self.w = torch.nn.Parameter(torch.rand(1))\n",
        "\n",
        "  def forward(self, x):\n",
        "    return self.w * x"
      ],
      "metadata": {
        "id": "yQ3rgJMVgorY"
      },
      "execution_count": 21,
      "outputs": []
    },
    {
      "cell_type": "code",
      "source": [
        "# Test\n",
        "model = LineModule()\n",
        "print(list(model.parameters()))\n",
        "print(model(torch.tensor([2.0])))"
      ],
      "metadata": {
        "colab": {
          "base_uri": "https://localhost:8080/"
        },
        "id": "uHsIuu5yhPWc",
        "outputId": "97b9ca1a-f035-400c-f4f1-dccad2515c99"
      },
      "execution_count": 22,
      "outputs": [
        {
          "output_type": "stream",
          "name": "stdout",
          "text": [
            "[Parameter containing:\n",
            "tensor([0.4165], requires_grad=True)]\n",
            "tensor([0.8329], grad_fn=<MulBackward0>)\n"
          ]
        }
      ]
    },
    {
      "cell_type": "code",
      "source": [
        "from tqdm import trange\n",
        "# Training\n",
        "dl = torch.utils.data.DataLoader(\n",
        "    dataset = ds,\n",
        "    batch_size=8\n",
        ")\n",
        "optimizer = torch.optim.SGD(model.parameters(), lr=0.001)\n",
        "loss_fn = torch.nn.MSELoss()\n",
        "epochs = 1000\n",
        "for epoch in trange(epochs):\n",
        "    for batch in dl:\n",
        "        x, y = batch\n",
        "        y_pred = model(x)\n",
        "        loss = loss_fn(y_pred, y)\n",
        "        optimizer.zero_grad()   # set to 0 the gradients, in order to avoid unwanted results\n",
        "        loss.backward()         # backpropagation using chain ruls\n",
        "        optimizer.step()        # weights update"
      ],
      "metadata": {
        "colab": {
          "base_uri": "https://localhost:8080/"
        },
        "id": "5bx3dPWdhgA4",
        "outputId": "3974e14b-944d-4383-89d5-54eca624ba1b"
      },
      "execution_count": 23,
      "outputs": [
        {
          "output_type": "stream",
          "name": "stderr",
          "text": [
            "100%|██████████| 1000/1000 [00:06<00:00, 147.67it/s]\n"
          ]
        }
      ]
    },
    {
      "cell_type": "code",
      "source": [
        "# Show results\n",
        "import matplotlib.pyplot as plt\n",
        "import pandas as pd\n",
        "df = pd.read_csv('dataset1.txt', sep=' ', names=[\"X\", \"Y\"])\n",
        "\n",
        "# detach: It destroys the association between the resulting tensor and the computation graph.\n",
        "tensor_y = model(torch.tensor(df['X'])).detach().numpy()\n",
        "plt.plot(df['X'],df['Y'], 'o')\n",
        "plt.plot(df['X'],tensor_y, color='orange')\n",
        "plt.show()"
      ],
      "metadata": {
        "colab": {
          "base_uri": "https://localhost:8080/",
          "height": 430
        },
        "id": "hnSssZ4Bjy3J",
        "outputId": "f0c5b8f1-2a92-484d-9b9b-483dd9abdd2b"
      },
      "execution_count": 24,
      "outputs": [
        {
          "output_type": "display_data",
          "data": {
            "text/plain": [
              "<Figure size 640x480 with 1 Axes>"
            ],
            "image/png": "[encoded data removed]"
          },
          "metadata": {}
        }
      ]
    }
  ]
}