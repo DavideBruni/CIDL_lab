{
  "nbformat": 4,
  "nbformat_minor": 0,
  "metadata": {
    "colab": {
      "provenance": [],
      "gpuType": "T4",
      "authorship_tag": "ABX9TyNTAmys3IiTDqbJo52fcqAJ",
      "include_colab_link": true
    },
    "kernelspec": {
      "name": "python3",
      "display_name": "Python 3"
    },
    "language_info": {
      "name": "python"
    },
    "accelerator": "GPU"
  },
  "cells": [
    {
      "cell_type": "markdown",
      "metadata": {
        "id": "view-in-github",
        "colab_type": "text"
      },
      "source": [
        "<a href=\"https://colab.research.google.com/github/DavideBruni/CIDL_lab/blob/main/Lecture2/CNN.ipynb\" target=\"_parent\"><img src=\"https://colab.research.google.com/assets/colab-badge.svg\" alt=\"Open In Colab\"/></a>"
      ]
    },
    {
      "cell_type": "code",
      "execution_count": 5,
      "metadata": {
        "id": "37W089p1tYoa"
      },
      "outputs": [],
      "source": [
        "import torch\n",
        "import torchvision\n",
        "\n",
        "\n",
        "train_mnist = torchvision.datasets.MNIST(\n",
        "    \"./data\",\n",
        "    train=True,\n",
        "    download=True,\n",
        "    transform=torchvision.transforms.Compose([\n",
        "        torchvision.transforms.ToTensor(),\n",
        "        torchvision.transforms.Normalize((0.1307,), (0.3081,))\n",
        "    ])\n",
        ")\n",
        "\n",
        "test_mnist = torchvision.datasets.MNIST(\n",
        "    \"./data\",\n",
        "    train=False,\n",
        "    download=True,\n",
        "    transform=torchvision.transforms.Compose([\n",
        "        torchvision.transforms.ToTensor(),\n",
        "        torchvision.transforms.Normalize((0.1307,), (0.3081,))\n",
        "    ])\n",
        ")"
      ]
    },
    {
      "cell_type": "markdown",
      "source": [
        "# **Exercise 0**"
      ],
      "metadata": {
        "id": "zry-pbpduy_X"
      }
    },
    {
      "cell_type": "code",
      "source": [
        "model = torch.nn.Sequential(\n",
        "    torch.nn.Linear(28 * 28, 300),\n",
        "    torch.nn.LeakyReLU(),\n",
        "    torch.nn.Linear(300, 300),\n",
        "    torch.nn.LeakyReLU(),\n",
        "    torch.nn.Linear(300, 10),\n",
        "    torch.nn.Softmax(dim=1)\n",
        ")\n",
        "\n",
        "model.to(\"cuda\")"
      ],
      "metadata": {
        "colab": {
          "base_uri": "https://localhost:8080/"
        },
        "id": "Tpq1EMxkuwZg",
        "outputId": "43f1607c-4f14-406e-9c5a-17334f97f467"
      },
      "execution_count": 6,
      "outputs": [
        {
          "output_type": "execute_result",
          "data": {
            "text/plain": [
              "Sequential(\n",
              "  (0): Linear(in_features=784, out_features=300, bias=True)\n",
              "  (1): LeakyReLU(negative_slope=0.01)\n",
              "  (2): Linear(in_features=300, out_features=300, bias=True)\n",
              "  (3): LeakyReLU(negative_slope=0.01)\n",
              "  (4): Linear(in_features=300, out_features=10, bias=True)\n",
              "  (5): Softmax(dim=1)\n",
              ")"
            ]
          },
          "metadata": {},
          "execution_count": 6
        }
      ]
    },
    {
      "cell_type": "code",
      "source": [
        "from tqdm import tqdm\n",
        "\n",
        "dl = torch.utils.data.DataLoader(train_mnist, batch_size=32, shuffle=True)\n",
        "loss_fn = torch.nn.CrossEntropyLoss()\n",
        "optimizer = torch.optim.Adam(model.parameters(), lr=0.001)\n",
        "\n",
        "epochs = 5\n",
        "\n",
        "for epoch in range(5):\n",
        "    bar = tqdm(dl)\n",
        "    for digit, cls in bar:\n",
        "        digit = digit.to(\"cuda\")    #move to GPU!\n",
        "        cls = cls.to(\"cuda\")\n",
        "\n",
        "        digit = digit.view(digit.shape[0], 28 * 28) #reshape!\n",
        "        pred = model(digit)\n",
        "\n",
        "        loss = loss_fn(pred, cls)\n",
        "        accuracy = (pred.argmax(dim=1) == cls).float().mean()\n",
        "        bar.set_description(f\"Loss: {loss.item():.4f}, Accuracy: {accuracy.item():.4f}\")\n",
        "\n",
        "        optimizer.zero_grad()\n",
        "        loss.backward()\n",
        "        optimizer.step()\n"
      ],
      "metadata": {
        "colab": {
          "base_uri": "https://localhost:8080/"
        },
        "id": "kaD-uMjcvW18",
        "outputId": "be295a51-38f2-437a-fb1b-87386f12a870"
      },
      "execution_count": 7,
      "outputs": [
        {
          "output_type": "stream",
          "name": "stderr",
          "text": [
            "Loss: 1.5546, Accuracy: 0.9062: 100%|██████████| 1875/1875 [00:23<00:00, 78.89it/s]\n",
            "Loss: 1.4930, Accuracy: 0.9688: 100%|██████████| 1875/1875 [00:23<00:00, 78.83it/s]\n",
            "Loss: 1.4701, Accuracy: 1.0000: 100%|██████████| 1875/1875 [00:24<00:00, 77.61it/s]\n",
            "Loss: 1.5592, Accuracy: 0.9062: 100%|██████████| 1875/1875 [00:26<00:00, 71.70it/s]\n",
            "Loss: 1.4919, Accuracy: 0.9688: 100%|██████████| 1875/1875 [00:23<00:00, 78.62it/s]\n"
          ]
        }
      ]
    },
    {
      "cell_type": "code",
      "source": [
        "import torch.nn.functional as F\n",
        "\n",
        "correct = 0\n",
        "total = 0\n",
        "model.eval()\n",
        "\n",
        "test_loader = torch.utils.data.DataLoader(test_mnist, batch_size=32, shuffle=True)\n",
        "with torch.no_grad():\n",
        "    for images, labels in test_loader:\n",
        "        images = images.to(\"cuda\")    #move to GPU!\n",
        "        labels = labels.to(\"cuda\")\n",
        "\n",
        "        images = images.view(images.shape[0], 28 * 28)    #reshape!\n",
        "        outputs = model(images)\n",
        "        _, predicted = torch.max(outputs.data, 1)\n",
        "        total += labels.size(0)\n",
        "        correct += (predicted == labels).sum().item()\n",
        "\n",
        "accuracy = correct / total\n",
        "print(f'Accuracy on the test set: {accuracy * 100:.2f}%')"
      ],
      "metadata": {
        "colab": {
          "base_uri": "https://localhost:8080/"
        },
        "id": "kUxFfTbaxMST",
        "outputId": "b631a4c6-0d32-4759-bff8-84665fc1d8e1"
      },
      "execution_count": 8,
      "outputs": [
        {
          "output_type": "stream",
          "name": "stdout",
          "text": [
            "Accuracy on the test set: 94.49%\n"
          ]
        }
      ]
    }
  ]
}