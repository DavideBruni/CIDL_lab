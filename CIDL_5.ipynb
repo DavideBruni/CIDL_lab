{
  "nbformat": 4,
  "nbformat_minor": 0,
  "metadata": {
    "colab": {
      "provenance": [],
      "authorship_tag": "ABX9TyO0CdfFXOeh/6R3+sT53zeI",
      "include_colab_link": true
    },
    "kernelspec": {
      "name": "python3",
      "display_name": "Python 3"
    },
    "language_info": {
      "name": "python"
    }
  },
  "cells": [
    {
      "cell_type": "markdown",
      "metadata": {
        "id": "view-in-github",
        "colab_type": "text"
      },
      "source": [
        "<a href=\"https://colab.research.google.com/github/DavideBruni/CIDL_lab/blob/main/CIDL_5.ipynb\" target=\"_parent\"><img src=\"https://colab.research.google.com/assets/colab-badge.svg\" alt=\"Open In Colab\"/></a>"
      ]
    },
    {
      "cell_type": "markdown",
      "source": [
        "# Esercizio 1\n",
        "\n"
      ],
      "metadata": {
        "id": "U-VkPrBsWvdA"
      }
    },
    {
      "cell_type": "code",
      "source": [
        "!pip install vector-quantize-pytorch"
      ],
      "metadata": {
        "colab": {
          "base_uri": "https://localhost:8080/"
        },
        "id": "uZgdWayGGk-L",
        "outputId": "8256c2a5-8191-4590-fb12-ac104c95d64e"
      },
      "execution_count": 57,
      "outputs": [
        {
          "output_type": "stream",
          "name": "stdout",
          "text": [
            "Requirement already satisfied: vector-quantize-pytorch in /usr/local/lib/python3.10/dist-packages (1.11.7)\n",
            "Requirement already satisfied: einops>=0.7.0 in /usr/local/lib/python3.10/dist-packages (from vector-quantize-pytorch) (0.7.0)\n",
            "Requirement already satisfied: torch in /usr/local/lib/python3.10/dist-packages (from vector-quantize-pytorch) (2.1.0+cu118)\n",
            "Requirement already satisfied: filelock in /usr/local/lib/python3.10/dist-packages (from torch->vector-quantize-pytorch) (3.13.1)\n",
            "Requirement already satisfied: typing-extensions in /usr/local/lib/python3.10/dist-packages (from torch->vector-quantize-pytorch) (4.5.0)\n",
            "Requirement already satisfied: sympy in /usr/local/lib/python3.10/dist-packages (from torch->vector-quantize-pytorch) (1.12)\n",
            "Requirement already satisfied: networkx in /usr/local/lib/python3.10/dist-packages (from torch->vector-quantize-pytorch) (3.2.1)\n",
            "Requirement already satisfied: jinja2 in /usr/local/lib/python3.10/dist-packages (from torch->vector-quantize-pytorch) (3.1.2)\n",
            "Requirement already satisfied: fsspec in /usr/local/lib/python3.10/dist-packages (from torch->vector-quantize-pytorch) (2023.6.0)\n",
            "Requirement already satisfied: triton==2.1.0 in /usr/local/lib/python3.10/dist-packages (from torch->vector-quantize-pytorch) (2.1.0)\n",
            "Requirement already satisfied: MarkupSafe>=2.0 in /usr/local/lib/python3.10/dist-packages (from jinja2->torch->vector-quantize-pytorch) (2.1.3)\n",
            "Requirement already satisfied: mpmath>=0.19 in /usr/local/lib/python3.10/dist-packages (from sympy->torch->vector-quantize-pytorch) (1.3.0)\n"
          ]
        }
      ]
    },
    {
      "cell_type": "code",
      "execution_count": 58,
      "metadata": {
        "id": "Evxa1Bv1-5nj"
      },
      "outputs": [],
      "source": [
        "import torch\n",
        "from vector_quantize_pytorch import VectorQuantize\n"
      ]
    },
    {
      "cell_type": "code",
      "source": [
        "class VQVARAE(torch.nn.Module):\n",
        "  def __init__(self, input_dim, vector_dim, num_embeddings, codebook_dim, batch_size):\n",
        "    super(VQVARAE,self).__init__()\n",
        "    self.batch_size = batch_size\n",
        "    self.num_embeddings = num_embeddings\n",
        "    self.vector_dim = vector_dim\n",
        "    self.encoder = torch.nn.Sequential(\n",
        "        torch.nn.Linear(input_dim, 300),\n",
        "        torch.nn.LeakyReLU(),\n",
        "        torch.nn.Linear(300,300),\n",
        "        torch.nn.LeakyReLU(),\n",
        "        torch.nn.Linear(300,vector_dim*num_embeddings)\n",
        "    )\n",
        "\n",
        "    self.decoder = torch.nn.Sequential(\n",
        "        torch.nn.Linear(vector_dim*num_embeddings, 300),\n",
        "        torch.nn.LeakyReLU(),\n",
        "        torch.nn.Linear(300,300),\n",
        "        torch.nn.LeakyReLU(),\n",
        "        torch.nn.Linear(300,input_dim)\n",
        "    )\n",
        "\n",
        "    self.vq = VectorQuantize(\n",
        "        dim = vector_dim,\n",
        "        codebook_size = codebook_dim,\n",
        "        decay = 0.8,\n",
        "        commitment_weight = 1.0\n",
        "    )\n",
        "\n",
        "  def encode(self,x):\n",
        "    return self.encoder(x)\n",
        "\n",
        "  def decode(self,x):\n",
        "    return self.decoder(x)\n",
        "\n",
        "  def forward(self,x):\n",
        "    latent = self.encoder(x)# from here is flat\n",
        "    latent = latent.reshape(self.batch_size,self.num_embeddings, self.vector_dim)\n",
        "    quantized, indices, vq_loss = self.vq(latent)   # here is a matrix\n",
        "    quantized = quantized.reshape(self.batch_size,self.num_embeddings*self.vector_dim)\n",
        "    reconstructed = self.decoder(quantized)\n",
        "    return latent, reconstructed, vq_loss"
      ],
      "metadata": {
        "id": "YmnUWX_SGgER"
      },
      "execution_count": 59,
      "outputs": []
    },
    {
      "cell_type": "code",
      "source": [
        "import torchvision\n",
        "from tqdm import tqdm\n",
        "train_mnist = torchvision.datasets.MNIST(\n",
        "    \"./data\",\n",
        "    train=True,\n",
        "    download=True,\n",
        "    transform=torchvision.transforms.Compose([\n",
        "        torchvision.transforms.ToTensor(),\n",
        "        torchvision.transforms.Normalize((0.1307,), (0.3081,))\n",
        "    ])\n",
        ")\n",
        "\n",
        "test_mnist = torchvision.datasets.MNIST(\n",
        "    \"./data\",\n",
        "    train=False,\n",
        "    download=True,\n",
        "    transform=torchvision.transforms.Compose([\n",
        "        torchvision.transforms.ToTensor(),\n",
        "        torchvision.transforms.Normalize((0.1307,), (0.3081,))\n",
        "    ])\n",
        ")\n"
      ],
      "metadata": {
        "id": "LgbYpIIlGibU"
      },
      "execution_count": 60,
      "outputs": []
    },
    {
      "cell_type": "code",
      "source": [
        "ae = VQVARAE(784,64,32,16,32)\n",
        "loss_fn = torch.nn.L1Loss()\n",
        "optimizer = torch.optim.Adam(ae.parameters(), lr=0.001)\n",
        "dl = torch.utils.data.DataLoader(train_mnist, batch_size=32,shuffle=True)\n",
        "ae.to('cpu')\n",
        "\n",
        "for epoch in range(3):\n",
        "  bar = tqdm(dl)\n",
        "  for batch, _ in bar:\n",
        "    batch = batch.to('cpu')\n",
        "    batch = batch.reshape(batch.size(0), -1)\n",
        "    latent, reconstruct, vq_loss = ae(batch)\n",
        "    error = loss_fn(reconstruct,batch)\n",
        "    error = error + vq_loss\n",
        "    optimizer.zero_grad()\n",
        "    error.backward()\n",
        "    optimizer.step()"
      ],
      "metadata": {
        "colab": {
          "base_uri": "https://localhost:8080/"
        },
        "id": "A-JTRIv5NNcR",
        "outputId": "e12f5a79-09d7-45f2-8e34-17e5688b7347"
      },
      "execution_count": 61,
      "outputs": [
        {
          "output_type": "stream",
          "name": "stderr",
          "text": [
            "100%|██████████| 1875/1875 [00:46<00:00, 39.97it/s]\n",
            "100%|██████████| 1875/1875 [00:41<00:00, 45.07it/s]\n",
            "100%|██████████| 1875/1875 [00:40<00:00, 46.37it/s]\n"
          ]
        }
      ]
    },
    {
      "cell_type": "code",
      "source": [
        "from matplotlib import pyplot as plt\n",
        "for batch, y in dl:\n",
        "    print(batch.shape)\n",
        "    plt.matshow(batch[0].squeeze())\n",
        "    _,reconstructed_flat,_ = ae(batch.view(32, 28*28))\n",
        "    reconstructed = reconstructed_flat.view(32, 28, 28)\n",
        "    plt.matshow(reconstructed[0].detach().numpy())\n",
        "    break"
      ],
      "metadata": {
        "colab": {
          "base_uri": "https://localhost:8080/",
          "height": 874
        },
        "id": "3siCbcYCRgy7",
        "outputId": "2c253b96-46e6-44b0-eef9-4d5981dd5778"
      },
      "execution_count": 62,
      "outputs": [
        {
          "output_type": "stream",
          "name": "stdout",
          "text": [
            "torch.Size([32, 1, 28, 28])\n"
          ]
        },
        {
          "output_type": "display_data",
          "data": {
            "text/plain": [
              "<Figure size 480x480 with 1 Axes>"
            ],
            "image/png": "[encoded data removed]"
          },
          "metadata": {}
        },
        {
          "output_type": "display_data",
          "data": {
            "text/plain": [
              "<Figure size 480x480 with 1 Axes>"
            ],
            "image/png": "[encoded data removed]"
          },
          "metadata": {}
        }
      ]
    },
    {
      "cell_type": "markdown",
      "source": [
        "#Esercizio 2"
      ],
      "metadata": {
        "id": "H-Vz9UJHW0o8"
      }
    },
    {
      "cell_type": "code",
      "source": [
        "class HomeMadeVectorQuantize(torch.nn.Module):\n",
        "  def __init__(self, dim, codebook_size):\n",
        "    super(HomeMadeVectorQuantize,self).__init__()\n",
        "    self.vector_dim = dim\n",
        "    self.codebook_size = codebook_size\n",
        "    self.codebook = torch.nn.Parameter(torch.rand(codebook_size, dim,requires_grad=True))\n",
        "\n",
        "  def forward(self,x):\n",
        "    distances = torch.cdist(x,self.codebook)\n",
        "    codes = distances.argmin(dim=-1)\n",
        "    quantized = self.codebook[codes]\n",
        "    vq = (quantized - x).detach() + x\n",
        "    commit_loss = torch.nn.functional.mse_loss(x,quantized.detach())\n",
        "    codebook_loss = torch.nn.functional.mse_loss(x.detach(),quantized)\n",
        "    loss = commit_loss + codebook_loss\n",
        "\n",
        "    return vq, codes, loss\n"
      ],
      "metadata": {
        "id": "Gt04hiaJXOWZ"
      },
      "execution_count": 63,
      "outputs": []
    },
    {
      "cell_type": "code",
      "source": [
        "class VQVARAE_SECOND_VERSION(torch.nn.Module):\n",
        "  def __init__(self, input_dim, vector_dim, num_embeddings, codebook_dim, batch_size):\n",
        "    super(VQVARAE_SECOND_VERSION,self).__init__()\n",
        "    self.batch_size = batch_size\n",
        "    self.num_embeddings = num_embeddings\n",
        "    self.vector_dim = vector_dim\n",
        "    self.encoder = torch.nn.Sequential(\n",
        "        torch.nn.Linear(input_dim, 300),\n",
        "        torch.nn.LeakyReLU(),\n",
        "        torch.nn.Linear(300,300),\n",
        "        torch.nn.LeakyReLU(),\n",
        "        torch.nn.Linear(300,vector_dim*num_embeddings)\n",
        "    )\n",
        "\n",
        "    self.decoder = torch.nn.Sequential(\n",
        "        torch.nn.Linear(vector_dim*num_embeddings, 300),\n",
        "        torch.nn.LeakyReLU(),\n",
        "        torch.nn.Linear(300,300),\n",
        "        torch.nn.LeakyReLU(),\n",
        "        torch.nn.Linear(300,input_dim),\n",
        "        torch.nn.Sigmoid()\n",
        "    )\n",
        "\n",
        "    self.vq = HomeMadeVectorQuantize(\n",
        "        dim = vector_dim,\n",
        "        codebook_size = codebook_dim\n",
        "    )\n",
        "\n",
        "  def encode(self,x):\n",
        "    return self.encoder(x)\n",
        "\n",
        "  def decode(self,x):\n",
        "    return self.decoder(x)\n",
        "\n",
        "  def forward(self,x):\n",
        "    latent = self.encoder(x)# from here is flat\n",
        "    latent = latent.reshape(self.batch_size,self.num_embeddings, self.vector_dim)\n",
        "    quantized, indices, vq_loss = self.vq(latent)   # here is a matrix\n",
        "    quantized = quantized.reshape(self.batch_size,self.num_embeddings*self.vector_dim)\n",
        "    reconstructed = self.decoder(quantized)\n",
        "    return latent, reconstructed, vq_loss"
      ],
      "metadata": {
        "id": "MW28hTKeWpw6"
      },
      "execution_count": 64,
      "outputs": []
    },
    {
      "cell_type": "code",
      "source": [
        "train_mnist_2 = torchvision.datasets.MNIST(\n",
        "    \"./data\",\n",
        "    train=True,\n",
        "    download=True,\n",
        "    transform=torchvision.transforms.Compose([\n",
        "        torchvision.transforms.ToTensor()\n",
        "    ])\n",
        ")\n",
        "\n",
        "test_mnist_2 = torchvision.datasets.MNIST(\n",
        "    \"./data\",\n",
        "    train=False,\n",
        "    download=True,\n",
        "    transform=torchvision.transforms.Compose([\n",
        "        torchvision.transforms.ToTensor()\n",
        "    ])\n",
        ")"
      ],
      "metadata": {
        "id": "mDSbIK5NcEru"
      },
      "execution_count": 65,
      "outputs": []
    },
    {
      "cell_type": "code",
      "source": [
        "ae = VQVARAE_SECOND_VERSION(784,64,32,16,32)\n",
        "loss_fn = torch.nn.BCELoss()\n",
        "optimizer = torch.optim.Adam(ae.parameters(), lr=0.001)\n",
        "dl = torch.utils.data.DataLoader(train_mnist_2, batch_size=32,shuffle=True)\n",
        "\n",
        "for epoch in range(3):\n",
        "  bar = tqdm(dl)\n",
        "  for batch, _ in bar:\n",
        "    batch = batch.reshape(batch.size(0), -1)\n",
        "    latent, reconstruct, vq_loss = ae(batch)\n",
        "    error_encoder = loss_fn(reconstruct,batch)\n",
        "    error = error_encoder + 0.02*vq_loss\n",
        "    optimizer.zero_grad()\n",
        "    error.backward()\n",
        "    optimizer.step()\n",
        "    bar.set_description(f\"Enconder {error_encoder}, vq_error {vq_loss}\")"
      ],
      "metadata": {
        "colab": {
          "base_uri": "https://localhost:8080/"
        },
        "id": "l_94eZbyZcVp",
        "outputId": "3ae51fd5-e91b-409d-c237-4147da93f07c"
      },
      "execution_count": 70,
      "outputs": [
        {
          "output_type": "stream",
          "name": "stderr",
          "text": [
            "Enconder 0.13620156049728394, vq_error 0.5037397742271423: 100%|██████████| 1875/1875 [00:42<00:00, 44.12it/s]\n",
            "Enconder 0.11992049962282181, vq_error 0.49475598335266113: 100%|██████████| 1875/1875 [00:42<00:00, 44.40it/s]\n",
            "Enconder 0.11019189655780792, vq_error 0.45989954471588135: 100%|██████████| 1875/1875 [00:41<00:00, 44.70it/s]\n"
          ]
        }
      ]
    },
    {
      "cell_type": "code",
      "source": [
        "from matplotlib import pyplot as plt\n",
        "for batch, y in dl:\n",
        "    print(batch.shape)\n",
        "    plt.matshow(batch[3].squeeze())\n",
        "    _,reconstructed_flat,_ = ae(batch.view(32, 28*28))\n",
        "    reconstructed = reconstructed_flat.view(32, 28, 28)\n",
        "    plt.matshow(reconstructed[3].detach().numpy())\n",
        "    break"
      ],
      "metadata": {
        "colab": {
          "base_uri": "https://localhost:8080/",
          "height": 874
        },
        "id": "5BcY0Z3GZiXM",
        "outputId": "13ce926e-726b-438f-9b21-d5a16eed7237"
      },
      "execution_count": 74,
      "outputs": [
        {
          "output_type": "stream",
          "name": "stdout",
          "text": [
            "torch.Size([32, 1, 28, 28])\n"
          ]
        },
        {
          "output_type": "display_data",
          "data": {
            "text/plain": [
              "<Figure size 480x480 with 1 Axes>"
            ],
            "image/png": "[encoded data removed]"
          },
          "metadata": {}
        },
        {
          "output_type": "display_data",
          "data": {
            "text/plain": [
              "<Figure size 480x480 with 1 Axes>"
            ],
            "image/png": "[encoded data removed]"
          },
          "metadata": {}
        }
      ]
    },
    {
      "cell_type": "markdown",
      "source": [
        "#Es 3, uguale, ma autoencoder con CNN invece che Linear"
      ],
      "metadata": {
        "id": "G0ECnOP-brsy"
      }
    },
    {
      "cell_type": "code",
      "source": [],
      "metadata": {
        "id": "P3Gy7rNDbwh5"
      },
      "execution_count": 67,
      "outputs": []
    }
  ]
}